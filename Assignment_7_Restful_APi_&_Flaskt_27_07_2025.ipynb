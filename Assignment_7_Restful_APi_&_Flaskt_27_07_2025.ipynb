{
  "cells": [
    {
      "cell_type": "markdown",
      "id": "1d290722",
      "metadata": {
        "id": "1d290722"
      },
      "source": [
        "# RESTful API & Flask Assignment - Solutions"
      ]
    },
    {
      "cell_type": "markdown",
      "id": "b999473c",
      "metadata": {
        "id": "b999473c"
      },
      "source": [
        "###1. What is a RESTful API\n",
        "\n",
        "*Answer:*\n",
        "\n",
        "\n",
        "A RESTful API (Representational State Transfer) is an architectural style for creating web services. It uses HTTP methods (GET, POST, PUT, DELETE) to perform CRUD operations on resources, which are identified by URLs. RESTful APIs are stateless, meaning each request from a client contains all the information needed to process the request."
      ]
    },
    {
      "cell_type": "markdown",
      "id": "6fcba5f4",
      "metadata": {
        "id": "6fcba5f4"
      },
      "source": [
        "###2. Explain the concept of API specification\n",
        "\n",
        "*Answer:*\n",
        "\n",
        "\n",
        "An API specification is a formal description of an API’s behavior, including its endpoints, request/response formats, parameters, and status codes. It serves as a contract between the server and the client. Examples include OpenAPI (Swagger) and RAML."
      ]
    },
    {
      "cell_type": "markdown",
      "id": "8920dc2d",
      "metadata": {
        "id": "8920dc2d"
      },
      "source": [
        "###3. What is Flask, and why is it popular for building APIs\n",
        "\n",
        "*Answer:*\n",
        "\n",
        "\n",
        "Flask is a micro web framework for Python, known for its simplicity, flexibility, and fine control over components. It’s widely used for building APIs due to its minimalistic design, ease of use, and vast ecosystem of extensions like Flask-RESTful and Flask-SQLAlchemy."
      ]
    },
    {
      "cell_type": "markdown",
      "id": "5f13d3aa",
      "metadata": {
        "id": "5f13d3aa"
      },
      "source": [
        "###4. What is routing in Flask\n",
        "\n",
        "*Answer:*\n",
        "\n",
        "\n",
        "Routing in Flask refers to mapping URLs to Python functions. Each route is associated with a specific function that handles the request. Flask uses the `@app.route()` decorator to define routes."
      ]
    },
    {
      "cell_type": "markdown",
      "id": "391d1861",
      "metadata": {
        "id": "391d1861"
      },
      "source": [
        "###5. How do you create a simple Flask application\n",
        "\n",
        "*Answer:*\n",
        "\n",
        "\n",
        "```python\n",
        "from flask import Flask\n",
        "app = Flask(__name__)\n",
        "\n",
        "@app.route('/')\n",
        "def hello():\n",
        "    return 'Hello, World!'\n",
        "\n",
        "if __name__ == '__main__':\n",
        "    app.run(debug=True)\n",
        "```"
      ]
    },
    {
      "cell_type": "markdown",
      "id": "47ac6bac",
      "metadata": {
        "id": "47ac6bac"
      },
      "source": [
        "###6. What are HTTP methods used in RESTful APIs\n",
        "\n",
        "*Answer:*\n",
        "\n",
        "\n",
        "Common HTTP methods used are:\n",
        "- **GET**: Retrieve data\n",
        "- **POST**: Submit new data\n",
        "- **PUT**: Update existing data\n",
        "- **DELETE**: Remove data\n",
        "- **PATCH**: Partially update data"
      ]
    },
    {
      "cell_type": "markdown",
      "id": "0db85f11",
      "metadata": {
        "id": "0db85f11"
      },
      "source": [
        "###7. What is the purpose of the @app.route() decorator in Flask\n",
        "\n",
        "*Answer:*\n",
        "\n",
        "\n",
        "The `@app.route()` decorator in Flask binds a URL to a view function, allowing the application to respond to specific endpoints."
      ]
    },
    {
      "cell_type": "markdown",
      "id": "d0e255df",
      "metadata": {
        "id": "d0e255df"
      },
      "source": [
        "###8. What is the difference between GET and POST HTTP methods\n",
        "\n",
        "*Answer:*\n",
        "\n",
        "\n",
        "**GET** retrieves data without modifying the server state, while **POST** submits data to the server and often changes the server state (e.g., adding a new record)."
      ]
    },
    {
      "cell_type": "markdown",
      "id": "1c969fcd",
      "metadata": {
        "id": "1c969fcd"
      },
      "source": [
        "###9. How do you handle errors in Flask APIs\n",
        "\n",
        "*Answer:*\n",
        "\n",
        "\n",
        "Flask handles errors using the `@app.errorhandler()` decorator. For example:\n",
        "```python\n",
        "@app.errorhandler(404)\n",
        "def not_found(e):\n",
        "    return 'Page not found', 404\n",
        "```"
      ]
    },
    {
      "cell_type": "markdown",
      "id": "7985543e",
      "metadata": {
        "id": "7985543e"
      },
      "source": [
        "###10. How do you connect Flask to a SQL database\n",
        "\n",
        "*Answer:*\n",
        "\n",
        "\n",
        "You can connect Flask to a SQL database using an ORM like SQLAlchemy or directly using a library like `sqlite3` or `psycopg2`. Example with Flask-SQLAlchemy:\n",
        "```python\n",
        "app.config['SQLALCHEMY_DATABASE_URI'] = 'sqlite:///data.db'\n",
        "db = SQLAlchemy(app)\n",
        "```"
      ]
    },
    {
      "cell_type": "markdown",
      "id": "10614502",
      "metadata": {
        "id": "10614502"
      },
      "source": [
        "###11. What is the role of Flask-SQLAlchemy\n",
        "\n",
        "*Answer:*\n",
        "\n",
        "\n",
        "Flask-SQLAlchemy is an extension that adds SQLAlchemy support to Flask applications. It simplifies database integration and provides ORM capabilities."
      ]
    },
    {
      "cell_type": "markdown",
      "id": "3265e2e6",
      "metadata": {
        "id": "3265e2e6"
      },
      "source": [
        "###12. What are Flask blueprints, and how are they useful\n",
        "\n",
        "*Answer:*\n",
        "\n",
        "\n",
        "Flask Blueprints allow modularizing applications by grouping related routes, templates, and static files. They help organize code and promote reusability."
      ]
    },
    {
      "cell_type": "markdown",
      "id": "3130d557",
      "metadata": {
        "id": "3130d557"
      },
      "source": [
        "###13. What is the purpose of Flask's request object\n",
        "\n",
        "*Answer:*\n",
        "\n",
        "\n",
        "Flask's `request` object gives access to incoming request data like headers, form values, JSON payloads, etc.\n",
        "```python\n",
        "from flask import request\n",
        "data = request.json\n",
        "```"
      ]
    },
    {
      "cell_type": "markdown",
      "id": "056db9a8",
      "metadata": {
        "id": "056db9a8"
      },
      "source": [
        "###14.How do you create a RESTful API endpoint using Flask\n",
        "\n",
        "*Answer:*\n",
        "\n",
        "\n",
        "```python\n",
        "@app.route('/api/data', methods=['GET'])\n",
        "def get_data():\n",
        "    return jsonify({'data': 'example'})\n",
        "```"
      ]
    },
    {
      "cell_type": "markdown",
      "id": "53c2f461",
      "metadata": {
        "id": "53c2f461"
      },
      "source": [
        "###15. What is the purpose of Flask's jsonify() function\n",
        "\n",
        "*Answer:*\n",
        "\n",
        "\n",
        "The `jsonify()` function converts Python dictionaries into JSON responses and sets appropriate content-type headers."
      ]
    },
    {
      "cell_type": "markdown",
      "id": "58127673",
      "metadata": {
        "id": "58127673"
      },
      "source": [
        "###16. Explain Flask’s url_for() function\n",
        "\n",
        "*Answer:*\n",
        "\n",
        "\n",
        "`url_for()` dynamically generates URLs for a given endpoint name. Useful for avoiding hardcoded URLs.\n",
        "```python\n",
        "url_for('home')\n",
        "```"
      ]
    },
    {
      "cell_type": "markdown",
      "id": "8064efdf",
      "metadata": {
        "id": "8064efdf"
      },
      "source": [
        "###17. How does Flask handle static files (CSS, JavaScript, etc.)\n",
        "\n",
        "*Answer:*\n",
        "\n",
        "\n",
        "Flask serves static files from the `/static` folder by default. You can link them in HTML like:\n",
        "```html\n",
        "<link rel=\"stylesheet\" href=\"{{ url_for('static', filename='style.css') }}\">\n",
        "```"
      ]
    },
    {
      "cell_type": "markdown",
      "id": "8fe10b35",
      "metadata": {
        "id": "8fe10b35"
      },
      "source": [
        "###18. What is an API specification, and how does it help in building a Flask API\n",
        "\n",
        "*Answer:*\n",
        "\n",
        "\n",
        "An API specification outlines endpoints, methods, parameters, and expected responses. It ensures consistency and helps in documenting and testing the API."
      ]
    },
    {
      "cell_type": "markdown",
      "id": "041b50ca",
      "metadata": {
        "id": "041b50ca"
      },
      "source": [
        "###19. What are HTTP status codes, and why are they important in a Flask API\n",
        "\n",
        "*Answer:*\n",
        "\n",
        "\n",
        "HTTP status codes indicate the result of HTTP requests:\n",
        "- 200 OK\n",
        "- 201 Created\n",
        "- 400 Bad Request\n",
        "- 404 Not Found\n",
        "- 500 Internal Server Error\n",
        "They help clients understand the outcome of API calls."
      ]
    },
    {
      "cell_type": "markdown",
      "id": "cb13ff9b",
      "metadata": {
        "id": "cb13ff9b"
      },
      "source": [
        "###20. How do you handle POST requests in Flask\n",
        "\n",
        "*Answer:*\n",
        "\n",
        "\n",
        "Use the `methods=['POST']` parameter in `@app.route()` and access data with `request.form` or `request.json`:\n",
        "```python\n",
        "@app.route('/submit', methods=['POST'])\n",
        "def submit():\n",
        "    data = request.json\n",
        "```"
      ]
    },
    {
      "cell_type": "markdown",
      "id": "f605e3b9",
      "metadata": {
        "id": "f605e3b9"
      },
      "source": [
        "###21. How would you secure a Flask API\n",
        "\n",
        "*Answer:*\n",
        "\n",
        "\n",
        "Security in Flask APIs can be achieved using:\n",
        "- HTTPS\n",
        "- Authentication (JWT, OAuth)\n",
        "- Input validation\n",
        "- Rate limiting\n",
        "- CSRF protection (for web forms)"
      ]
    },
    {
      "cell_type": "markdown",
      "id": "93eb66f0",
      "metadata": {
        "id": "93eb66f0"
      },
      "source": [
        "###22. What is the significance of the Flask-RESTful extension\n",
        "\n",
        "*Answer:*\n",
        "\n",
        "\n",
        "Flask-RESTful is an extension that simplifies the creation of REST APIs by providing tools for resource routing, request parsing, and standardized responses."
      ]
    },
    {
      "cell_type": "markdown",
      "id": "dd435244",
      "metadata": {
        "id": "dd435244"
      },
      "source": [
        "###23. What is the role of Flask’s session object?\n",
        "\n",
        "*Answer:*\n",
        "\n",
        "\n",
        "Flask’s `session` object stores user-specific data across requests using cookies. Useful for login sessions and preferences."
      ]
    },
    {
      "cell_type": "markdown",
      "source": [
        "#**Practical Questions**"
      ],
      "metadata": {
        "id": "51xiXIIf4cKI"
      },
      "id": "51xiXIIf4cKI"
    },
    {
      "cell_type": "code",
      "source": [
        "#1. How do you create a basic Flask application\n",
        "\n",
        "from flask import Flask\n",
        "app = Flask(__name__)\n",
        "\n",
        "@app.route('/')\n",
        "def home():\n",
        "    return 'Hello, Flask!'\n",
        "\n",
        "if __name__ == '__main__':\n",
        "    app.run(debug=True)\n",
        ""
      ],
      "metadata": {
        "colab": {
          "base_uri": "https://localhost:8080/"
        },
        "id": "ON65zDx65cR-",
        "outputId": "22e0457d-31b6-4372-c656-8c4dd6175009"
      },
      "id": "ON65zDx65cR-",
      "execution_count": 1,
      "outputs": [
        {
          "output_type": "stream",
          "name": "stdout",
          "text": [
            " * Serving Flask app '__main__'\n",
            " * Debug mode: on\n"
          ]
        },
        {
          "output_type": "stream",
          "name": "stderr",
          "text": [
            "INFO:werkzeug:\u001b[31m\u001b[1mWARNING: This is a development server. Do not use it in a production deployment. Use a production WSGI server instead.\u001b[0m\n",
            " * Running on http://127.0.0.1:5000\n",
            "INFO:werkzeug:\u001b[33mPress CTRL+C to quit\u001b[0m\n",
            "INFO:werkzeug: * Restarting with stat\n"
          ]
        }
      ]
    },
    {
      "cell_type": "code",
      "source": [
        "#2. How do you serve static files like images or CSS in Flask\n",
        "\n",
        "from flask import Flask, send_from_directory\n",
        "app = Flask(__name__)\n",
        "\n",
        "@app.route('/static/')\n",
        "def send_static(filename):\n",
        "    return send_from_directory('static', filename)\n",
        "\n",
        "if __name__ == '__main__':\n",
        "    app.run(debug=True)"
      ],
      "metadata": {
        "colab": {
          "base_uri": "https://localhost:8080/"
        },
        "id": "2biHI5zC53Z9",
        "outputId": "b6f19cb3-90ac-4a7a-e324-7c76bb3ff59f"
      },
      "id": "2biHI5zC53Z9",
      "execution_count": 2,
      "outputs": [
        {
          "output_type": "stream",
          "name": "stdout",
          "text": [
            " * Serving Flask app '__main__'\n",
            " * Debug mode: on\n"
          ]
        },
        {
          "output_type": "stream",
          "name": "stderr",
          "text": [
            "INFO:werkzeug:\u001b[31m\u001b[1mWARNING: This is a development server. Do not use it in a production deployment. Use a production WSGI server instead.\u001b[0m\n",
            " * Running on http://127.0.0.1:5000\n",
            "INFO:werkzeug:\u001b[33mPress CTRL+C to quit\u001b[0m\n",
            "INFO:werkzeug: * Restarting with stat\n"
          ]
        }
      ]
    },
    {
      "cell_type": "code",
      "source": [
        "#3. How do you define different routes with different HTTP methods in Flask?\n",
        "\n",
        "from flask import Flask\n",
        "app = Flask(__name__)\n",
        "\n",
        "@app.route('/greet', methods=['GET'])\n",
        "def greet():\n",
        "    return \"Hello World!\"\n",
        "\n",
        "if __name__ == '__main__':\n",
        "    app.run(debug=True)"
      ],
      "metadata": {
        "colab": {
          "base_uri": "https://localhost:8080/"
        },
        "id": "33OV710o64dv",
        "outputId": "9ef44bfb-0599-4a31-d1ac-d0371b240426"
      },
      "id": "33OV710o64dv",
      "execution_count": 4,
      "outputs": [
        {
          "output_type": "stream",
          "name": "stdout",
          "text": [
            " * Serving Flask app '__main__'\n",
            " * Debug mode: on\n"
          ]
        },
        {
          "output_type": "stream",
          "name": "stderr",
          "text": [
            "INFO:werkzeug:\u001b[31m\u001b[1mWARNING: This is a development server. Do not use it in a production deployment. Use a production WSGI server instead.\u001b[0m\n",
            " * Running on http://127.0.0.1:5000\n",
            "INFO:werkzeug:\u001b[33mPress CTRL+C to quit\u001b[0m\n",
            "INFO:werkzeug: * Restarting with stat\n"
          ]
        }
      ]
    },
    {
      "cell_type": "code",
      "source": [
        "#4. How do you render HTML templates in Flask?\n",
        "\n",
        "from flask import Flask, render_template\n",
        "app = Flask(__name__)\n",
        "\n",
        "@app.route('/')\n",
        "def index():\n",
        "    return render_template('index.html')\n",
        "\n",
        "if __name__ == '__main__':\n",
        "    app.run(debug=True)"
      ],
      "metadata": {
        "id": "q2C73hRv7Xq-"
      },
      "id": "q2C73hRv7Xq-",
      "execution_count": null,
      "outputs": []
    },
    {
      "cell_type": "code",
      "source": [
        "#5. How can you generate URLs for routes in Flask using url_for?\n",
        "\n",
        "from flask import Flask, url_for\n",
        "app = Flask(__name__)\n",
        "\n",
        "@app.route('/home')\n",
        "def home():\n",
        "    return 'This is the home page.'\n",
        "\n",
        "@app.route('/')\n",
        "def index():\n",
        "    return f'Go to Home'\n",
        "\n",
        "if __name__ == '__main__':\n",
        "    app.run(debug=True)"
      ],
      "metadata": {
        "id": "ku46IxS77b65"
      },
      "id": "ku46IxS77b65",
      "execution_count": null,
      "outputs": []
    },
    {
      "cell_type": "code",
      "source": [
        "#6. How do you handle forms in Flask?\n",
        "\n",
        "from flask import Flask, request, render_template\n",
        "app = Flask(__name__)\n",
        "\n",
        "@app.route('/submit', methods=['GET', 'POST'])\n",
        "def submit():\n",
        "    if request.method == 'POST':\n",
        "        name = request.form['name']\n",
        "        return f\"Hello {name}!\"\n",
        "    return render_template('form.html')\n",
        "\n",
        "if __name__ == '__main__':\n",
        "    app.run(debug=True)"
      ],
      "metadata": {
        "id": "ScIp2pbi7l6K"
      },
      "id": "ScIp2pbi7l6K",
      "execution_count": null,
      "outputs": []
    },
    {
      "cell_type": "code",
      "source": [
        "#7. How can you validate form data in Flask?\n",
        "\n",
        "from flask import Flask, request, flash, redirect, url_for\n",
        "app = Flask(__name__)\n",
        "app.secret_key = 'secret'\n",
        "\n",
        "@app.route('/login', methods=['POST'])\n",
        "def login():\n",
        "    username = request.form['username']\n",
        "    if not username:\n",
        "        flash('Username is required!')\n",
        "        return redirect(url_for('login'))\n",
        "    return 'Login successful'\n",
        "\n",
        "if __name__ == '__main__':\n",
        "    app.run(debug=True)"
      ],
      "metadata": {
        "id": "vH9jpDBf7lub"
      },
      "id": "vH9jpDBf7lub",
      "execution_count": null,
      "outputs": []
    },
    {
      "cell_type": "code",
      "source": [
        "#8. How do you manage sessions in Flask?\n",
        "\n",
        "from flask import Flask, session\n",
        "app = Flask(__name__)\n",
        "app.secret_key = 'secret'\n",
        "\n",
        "@app.route('/set_user')\n",
        "def set_user():\n",
        "    session['user'] = 'John'\n",
        "    return 'User set'\n",
        "\n",
        "@app.route('/get_user')\n",
        "def get_user():\n",
        "    return f'Logged in as {session.get(\"user\", \"Guest\")}'\n",
        "\n",
        "if __name__ == '__main__':\n",
        "    app.run(debug=True)\n",
        ""
      ],
      "metadata": {
        "id": "gRl9CPiE7ljt"
      },
      "id": "gRl9CPiE7ljt",
      "execution_count": null,
      "outputs": []
    },
    {
      "cell_type": "code",
      "source": [
        "#9. How do you redirect to a different route in Flask?\n",
        "\n",
        "from flask import Flask, redirect, url_for\n",
        "app = Flask(__name__)\n",
        "\n",
        "@app.route('/redirect_home')\n",
        "def redirect_home():\n",
        "    return redirect(url_for('home'))\n",
        "\n",
        "@app.route('/home')\n",
        "def home():\n",
        "    return 'This is the home page.'\n",
        "\n",
        "if __name__ == '__main__':\n",
        "    app.run(debug=True)"
      ],
      "metadata": {
        "id": "EF-SQJ5s7lXU"
      },
      "id": "EF-SQJ5s7lXU",
      "execution_count": null,
      "outputs": []
    },
    {
      "cell_type": "code",
      "source": [
        "#10. How do you handle errors in Flask (e.g., 404)?\n",
        "\n",
        "from flask import Flask\n",
        "app = Flask(__name__)\n",
        "\n",
        "@app.errorhandler(404)\n",
        "def page_not_found(e):\n",
        "    return 'Page not found', 404\n",
        "\n",
        "@app.route('/')\n",
        "def home():\n",
        "    return 'Welcome to the home page.'\n",
        "\n",
        "if __name__ == '__main__':\n",
        "    app.run(debug=True)\n",
        ""
      ],
      "metadata": {
        "id": "bgvcK5757lNH"
      },
      "id": "bgvcK5757lNH",
      "execution_count": null,
      "outputs": []
    },
    {
      "cell_type": "code",
      "source": [
        "#11. How do you structure a Flask app using Blueprints?\n",
        "\n",
        "from flask import Flask, Blueprint\n",
        "app = Flask(__name__)\n",
        "\n",
        "bp = Blueprint('home', __name__)\n",
        "\n",
        "@bp.route('/')\n",
        "def index():\n",
        "    return 'Home Page'\n",
        "\n",
        "app.register_blueprint(bp)\n",
        "\n",
        "if __name__ == '__main__':\n",
        "    app.run(debug=True)\n",
        "\n"
      ],
      "metadata": {
        "id": "g8Nm-VNh7lAT"
      },
      "id": "g8Nm-VNh7lAT",
      "execution_count": null,
      "outputs": []
    },
    {
      "cell_type": "code",
      "source": [
        "#12.  How do you define a custom Jinja filter in Flask?\n",
        "\n",
        "from flask import Flask\n",
        "app = Flask(__name__)\n",
        "\n",
        "@app.template_filter('reverse')\n",
        "def reverse_filter(s):\n",
        "    return s[::-1]\n",
        "\n",
        "@app.route('/')\n",
        "def home():\n",
        "    return render_template('home.html', name='Flask')\n",
        "\n",
        "if __name__ == '__main__':\n",
        "    app.run(debug=True)"
      ],
      "metadata": {
        "id": "3LO7QdGQ7kzl"
      },
      "id": "3LO7QdGQ7kzl",
      "execution_count": null,
      "outputs": []
    },
    {
      "cell_type": "code",
      "source": [
        "#13. HOW can you redirect with query parameters in Flask?\n",
        "\n",
        "from flask import Flask, redirect, url_for\n",
        "app = Flask(__name__)\n",
        "\n",
        "@app.route('/redirect_with_query')\n",
        "def redirect_with_query():\n",
        "    return redirect(url_for('home', username='John'))\n",
        "\n",
        "@app.route('/home')\n",
        "def home():\n",
        "    return f'Welcome, {request.args.get(\"username\")}'\n",
        "\n",
        "if __name__ == '__main__':\n",
        "    app.run(debug=True)"
      ],
      "metadata": {
        "id": "GNJ6wT7P7kHM"
      },
      "id": "GNJ6wT7P7kHM",
      "execution_count": null,
      "outputs": []
    },
    {
      "cell_type": "code",
      "source": [
        "#14. How do you return JSON responses in Flask?\n",
        "\n",
        "from flask import Flask, jsonify\n",
        "app = Flask(__name__)\n",
        "\n",
        "@app.route('/data')\n",
        "def data():\n",
        "    return jsonify({\"name\": \"Flask\", \"version\": \"2.0\"})\n",
        "\n",
        "if __name__ == '__main__':\n",
        "    app.run(debug=True)"
      ],
      "metadata": {
        "id": "osIYdBql7j81"
      },
      "id": "osIYdBql7j81",
      "execution_count": null,
      "outputs": []
    },
    {
      "cell_type": "code",
      "source": [
        "#15. How do you capture URL parameters in Flask?\n",
        "\n",
        "from flask import Flask\n",
        "app = Flask(__name__)\n",
        "\n",
        "@app.route('/user/')\n",
        "def user(username):\n",
        "    return f\"Hello {username}!\"\n",
        "\n",
        "if __name__ == '__main__':\n",
        "    app.run(debug=True)"
      ],
      "metadata": {
        "id": "nXlNYbkT7jsj"
      },
      "id": "nXlNYbkT7jsj",
      "execution_count": null,
      "outputs": []
    }
  ],
  "metadata": {
    "title": "RESTful API & Flask Assignment",
    "colab": {
      "provenance": []
    },
    "language_info": {
      "name": "python"
    },
    "kernelspec": {
      "name": "python3",
      "display_name": "Python 3"
    }
  },
  "nbformat": 4,
  "nbformat_minor": 5
}